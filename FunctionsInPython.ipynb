{
 "cells": [
  {
   "cell_type": "markdown",
   "id": "d96ae2cd",
   "metadata": {},
   "source": [
    "Parametre olarak girilen bir sayının asal sayı olup olmadığını belirten bir fonksiyon yazın.\n",
    "\n",
    "Parametre olarak girilecek listenin elemanlarını yeni bir listeye her değer sadece bir kere geçecek şekilde aktaran bir fonksiyon yazın. Normalde bu işlemi set() komutu ile yapabiliriz ama bu seferlik bu komutu kullanmayalım.\n",
    "\n",
    " Örnek : uniq_liste([1,2,2,3,3,4,4]) = [1,2,3,4]\n",
    "Parametre olarak girilen bir sayının faktöriyelini hesaplayan bir fonksiyon yazın.\n",
    "\n",
    "Girilen metin içerisindeki büyük harf ve küçük harflerin sayısını ekrana yazdıran bir fonksiyon yazın."
   ]
  },
  {
   "cell_type": "code",
   "execution_count": 1,
   "id": "bb50dc49",
   "metadata": {},
   "outputs": [
    {
     "name": "stdout",
     "output_type": "stream",
     "text": [
      "girilen sayı asal\n"
     ]
    }
   ],
   "source": [
    "def asal(num):\n",
    "  sayac=0\n",
    "  for i in (2,num+1):\n",
    "    if num%i==0:\n",
    "      sayac+=1\n",
    "      break\n",
    "  if sayac!=0:\n",
    "    print(\"girilen sayı asal değil\")   \n",
    "  else:\n",
    "    print(\"girilen sayı asal\")  \n",
    "\n",
    "asal(11)"
   ]
  },
  {
   "cell_type": "code",
   "execution_count": 2,
   "id": "ed71a43f",
   "metadata": {},
   "outputs": [
    {
     "name": "stdout",
     "output_type": "stream",
     "text": [
      "['seyma', 'istanbul', 'ankara', 'mersin', 'izmir']\n"
     ]
    }
   ],
   "source": [
    "def new_list(args):\n",
    "  list_2=[]\n",
    "  for i in args:\n",
    "    if i in list_2:\n",
    "      continue\n",
    "    else:\n",
    "      list_2.append(i) \n",
    "          \n",
    "  print(list_2) \n",
    "new_list([\"seyma\",\"istanbul\",\"istanbul\",\"ankara\",\"mersin\",\"izmir\",\"izmir\"])     \n",
    "   "
   ]
  },
  {
   "cell_type": "code",
   "execution_count": 3,
   "id": "f5c660d8",
   "metadata": {},
   "outputs": [
    {
     "data": {
      "text/plain": [
       "6"
      ]
     },
     "execution_count": 3,
     "metadata": {},
     "output_type": "execute_result"
    }
   ],
   "source": [
    "def fact(x):\n",
    "    t=1\n",
    "    while(x > 1):\n",
    "        t=t*x\n",
    "        x=x-1\n",
    "    return t\n",
    "fact(3) "
   ]
  },
  {
   "cell_type": "code",
   "execution_count": 4,
   "id": "02f5876a",
   "metadata": {},
   "outputs": [
    {
     "name": "stdout",
     "output_type": "stream",
     "text": [
      "küçük harf sayısı: 9\n",
      "büyük harf sayısı: 3\n"
     ]
    }
   ],
   "source": [
    "def hesapla(string):\n",
    "  kucuk_harf=\"abcdefgğhıijklmnoöprsştuüvyzxwq\"\n",
    "  buyuk_harf=\"ABCÇDEFGĞHIİJKLMNOÖPRSŞTUÜVYZXWQ\"\n",
    "  kucuk_sayac=0\n",
    "  buyuk_sayac=0\n",
    "  for i in string:\n",
    "    if i in kucuk_harf:\n",
    "      kucuk_sayac+=1\n",
    "    elif i in buyuk_harf:\n",
    "      buyuk_sayac+=1\n",
    "    else:\n",
    "      pass\n",
    "  print(\"küçük harf sayısı:\",kucuk_sayac)\n",
    "  print(\"büyük harf sayısı:\",buyuk_sayac)   \n",
    "hesapla(\"MerHaba Dünya\") "
   ]
  },
  {
   "cell_type": "code",
   "execution_count": null,
   "id": "40fe16e1",
   "metadata": {},
   "outputs": [],
   "source": []
  }
 ],
 "metadata": {
  "kernelspec": {
   "display_name": "Python 3",
   "language": "python",
   "name": "python3"
  },
  "language_info": {
   "codemirror_mode": {
    "name": "ipython",
    "version": 3
   },
   "file_extension": ".py",
   "mimetype": "text/x-python",
   "name": "python",
   "nbconvert_exporter": "python",
   "pygments_lexer": "ipython3",
   "version": "3.8.8"
  }
 },
 "nbformat": 4,
 "nbformat_minor": 5
}
